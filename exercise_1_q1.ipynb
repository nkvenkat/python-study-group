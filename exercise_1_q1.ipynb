{
 "cells": [
  {
   "cell_type": "markdown",
   "metadata": {},
   "source": [
    "# Session 1 Exercises\n",
    "<p><hr size=\"5\" width=\"100%\" color=\"#0\"/></p>"
   ]
  },
  {
   "cell_type": "markdown",
   "metadata": {},
   "source": [
    "## Question 1: Given a number ‘n’, output its factorial using reduce()."
   ]
  },
  {
   "cell_type": "markdown",
   "metadata": {},
   "source": [
    "### Synopsis:\n",
    "<p>Python <b><i>reduce(function(), args)</i></b> function works by sequentially processing args using the passed in parameter function(). Initially reduce accepts the first two arguments from the input list and processes them for a result. This result is then combined with the next argument in sequence. The process continues until all arguments have been iterated over. The final result is returned.</p>"
   ]
  },
  {
   "cell_type": "markdown",
   "metadata": {},
   "source": [
    "### Approach:\n",
    "<p>Formula for factorial of 'n' is given by:</p>\n",
    "\\begin{align}\n",
    "n! = n * (n-1)! \\\\\n",
    "\\end{align}\n",
    "<p>The above recursive formula is clearly a <i>reduce</i>-able problem.</p>\n",
    "<p>Given reduce requires an argument list, we will create a list of numbers from 0 to 'n'. We will use multiplication function as our reducer function to compute the factorial<p>"
   ]
  },
  {
   "cell_type": "markdown",
   "metadata": {},
   "source": [
    "#### Step 1: Initialize and import dependencies"
   ]
  },
  {
   "cell_type": "code",
   "execution_count": 1,
   "metadata": {},
   "outputs": [
    {
     "name": "stdout",
     "output_type": "stream",
     "text": [
      "Collecting functools\n",
      "  Downloading https://files.pythonhosted.org/packages/22/3c/33589bf30422a92cf8c77054f2cf940ef2acc8a2857e5664045ed75a1c6a/functools-0.5.tar.gz\n",
      "Installing collected packages: functools\n",
      "    Running setup.py install for functools: started\n",
      "    Running setup.py install for functools: finished with status 'error'\n"
     ]
    },
    {
     "name": "stderr",
     "output_type": "stream",
     "text": [
      "    ERROR: Command errored out with exit status 1:\n",
      "     command: 'c:\\users\\114336\\appdata\\local\\programs\\python\\python36-32\\python.exe' -u -c 'import sys, setuptools, tokenize; sys.argv[0] = '\"'\"'C:\\\\Users\\\\114336\\\\AppData\\\\Local\\\\Temp\\\\pip-install-pvy8gf17\\\\functools\\\\setup.py'\"'\"'; __file__='\"'\"'C:\\\\Users\\\\114336\\\\AppData\\\\Local\\\\Temp\\\\pip-install-pvy8gf17\\\\functools\\\\setup.py'\"'\"';f=getattr(tokenize, '\"'\"'open'\"'\"', open)(__file__);code=f.read().replace('\"'\"'\\r\\n'\"'\"', '\"'\"'\\n'\"'\"');f.close();exec(compile(code, __file__, '\"'\"'exec'\"'\"'))' install --record 'C:\\Users\\114336\\AppData\\Local\\Temp\\pip-record-yb4jiq2g\\install-record.txt' --single-version-externally-managed --compile\n",
      "         cwd: C:\\Users\\114336\\AppData\\Local\\Temp\\pip-install-pvy8gf17\\functools\\\n",
      "    Complete output (9 lines):\n",
      "    running install\n",
      "    running build\n",
      "    running build_py\n",
      "    creating build\n",
      "    creating build\\lib.win32-3.6\n",
      "    copying functools.py -> build\\lib.win32-3.6\n",
      "    running build_ext\n",
      "    building '_functools' extension\n",
      "    error: Microsoft Visual C++ 14.0 is required. Get it with \"Microsoft Visual C++ Build Tools\": http://landinghub.visualstudio.com/visual-cpp-build-tools\n",
      "    ----------------------------------------\n",
      "ERROR: Command errored out with exit status 1: 'c:\\users\\114336\\appdata\\local\\programs\\python\\python36-32\\python.exe' -u -c 'import sys, setuptools, tokenize; sys.argv[0] = '\"'\"'C:\\\\Users\\\\114336\\\\AppData\\\\Local\\\\Temp\\\\pip-install-pvy8gf17\\\\functools\\\\setup.py'\"'\"'; __file__='\"'\"'C:\\\\Users\\\\114336\\\\AppData\\\\Local\\\\Temp\\\\pip-install-pvy8gf17\\\\functools\\\\setup.py'\"'\"';f=getattr(tokenize, '\"'\"'open'\"'\"', open)(__file__);code=f.read().replace('\"'\"'\\r\\n'\"'\"', '\"'\"'\\n'\"'\"');f.close();exec(compile(code, __file__, '\"'\"'exec'\"'\"'))' install --record 'C:\\Users\\114336\\AppData\\Local\\Temp\\pip-record-yb4jiq2g\\install-record.txt' --single-version-externally-managed --compile Check the logs for full command output.\n",
      "WARNING: You are using pip version 19.3; however, version 19.3.1 is available.\n",
      "You should consider upgrading via the 'python -m pip install --upgrade pip' command.\n"
     ]
    }
   ],
   "source": [
    "# reduce() is a function available in functools\n",
    "!pip install functools\n",
    "from functools import reduce"
   ]
  },
  {
   "cell_type": "markdown",
   "metadata": {},
   "source": [
    "#### Step 2: "
   ]
  }
 ],
 "metadata": {
  "kernelspec": {
   "display_name": "Python 3",
   "language": "python",
   "name": "python3"
  },
  "language_info": {
   "codemirror_mode": {
    "name": "ipython",
    "version": 3
   },
   "file_extension": ".py",
   "mimetype": "text/x-python",
   "name": "python",
   "nbconvert_exporter": "python",
   "pygments_lexer": "ipython3",
   "version": "3.6.3"
  }
 },
 "nbformat": 4,
 "nbformat_minor": 2
}
