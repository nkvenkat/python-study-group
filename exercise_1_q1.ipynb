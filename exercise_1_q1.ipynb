{
 "cells": [
  {
   "cell_type": "markdown",
   "metadata": {},
   "source": [
    "# Session 1 Exercises\n",
    "<p><hr size=\"5\" width=\"100%\" color=\"#0\"/></p>"
   ]
  },
  {
   "cell_type": "markdown",
   "metadata": {},
   "source": [
    "## Question 1: Given a number ‘n’, output its factorial using reduce()."
   ]
  },
  {
   "cell_type": "markdown",
   "metadata": {},
   "source": [
    "### Synopsis:\n",
    "<p>Python <b><i>reduce(function(), args)</i></b> function works by sequentially processing args using the passed in parameter function(). Initially reduce accepts the first two arguments from the input list and processes them for a result. This result is then combined with the next argument in sequence. The process continues until all arguments have been iterated over. The final result is returned.</p>"
   ]
  },
  {
   "cell_type": "markdown",
   "metadata": {},
   "source": [
    "### Approach:\n",
    "<p>Formula for factorial of 'n' is given by:</p>\n",
    "\\begin{align}\n",
    "n! = n * (n-1)! \\\\\n",
    "\\end{align}\n",
    "<p>The above recursive formula is clearly a <i>reduce</i>-able problem.</p>\n",
    "<p>Given reduce requires an argument list, we will create a list of numbers from 0 to 'n'. We will use multiplication function as our reducer function to compute the factorial<p>"
   ]
  },
  {
   "cell_type": "markdown",
   "metadata": {},
   "source": [
    "### Implementation:"
   ]
  },
  {
   "cell_type": "code",
   "execution_count": 1,
   "metadata": {},
   "outputs": [],
   "source": [
    "# reduce() is a function available in functools\n",
    "from functools import reduce"
   ]
  },
  {
   "cell_type": "code",
   "execution_count": 2,
   "metadata": {},
   "outputs": [
    {
     "name": "stdout",
     "output_type": "stream",
     "text": [
      "Enter number to compute factorial:8\n",
      "Factorial for 8  is  40320\n"
     ]
    }
   ],
   "source": [
    "# get user input\n",
    "num = input(\"Enter number to compute factorial:\")\n",
    "\n",
    "try:\n",
    "    num = int(num)\n",
    "    if num == 0:\n",
    "        fct = 1\n",
    "    # largest number that can be stored is 2^31 which is approximately 20!\n",
    "    if num > 20 or num < 0:\n",
    "        print(\"Factorial cannot be computed for:\", num)\n",
    "    else:\n",
    "        print(\"Factorial for\", num, \" is \",reduce(lambda x,y: x*y, list(range(1,num+1))))\n",
    "except ValueError:\n",
    "    # factorial can only be computed for integers\n",
    "    print(\"Factorial cannot be computed for:\", num)"
   ]
  },
  {
   "cell_type": "markdown",
   "metadata": {},
   "source": [
    "### Concluding Remarks\n",
    "<p>Given an input number, list of integers less than or equal to the input was generated. Python <i><b>reduce</b></i> function was used to compute successive, cumulative products, generating factorial as result. Use of try-catch block to trap user input was demonstrated; this is inline with popular coding standard that encourages minimal scaffolding."
   ]
  }
 ],
 "metadata": {
  "kernelspec": {
   "display_name": "Python 3.6",
   "language": "python",
   "name": "python3"
  },
  "language_info": {
   "codemirror_mode": {
    "name": "ipython",
    "version": 3
   },
   "file_extension": ".py",
   "mimetype": "text/x-python",
   "name": "python",
   "nbconvert_exporter": "python",
   "pygments_lexer": "ipython3",
   "version": "3.6.8"
  }
 },
 "nbformat": 4,
 "nbformat_minor": 2
}
