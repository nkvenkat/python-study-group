{
 "cells": [
  {
   "cell_type": "markdown",
   "metadata": {},
   "source": [
    "# Session 1 Exercises\n",
    "<p><hr size=\"5\" width=\"100%\" color=\"#0\"/></p>"
   ]
  },
  {
   "cell_type": "markdown",
   "metadata": {},
   "source": [
    "## Question 2: In a school, there are total 20 students numbered from 1 to 20. You’re given three lists named ‘C’, ‘F’, and ‘H’, representing students who play cricket, football, and hockey, respectively. Based on this information, find out and print the following: \n",
    "<h3><ol><li>Students who play all the three sports</li><li>Students who play both cricket and football but don’t play hockey</li><li>Students who play exactly two of the sports</li><li>Students who don’t play any of the three sports</li></ol></h3>"
   ]
  },
  {
   "cell_type": "markdown",
   "metadata": {},
   "source": [
    "### Approach 1 (List Operations):\n",
    "<p>The input lists are essentially index positions of items in a 20 item array that meet the criteria. To determine answers to each of the questions, we can do a list search.</p>\n",
    "<p>We will concatenate the three lists into a single list, and count number of occurrances of an index to determine answers for (1), (3) and (4)</p>\n",
    "<p> For determining items in one list and not in another, we will use iteration </p>"
   ]
  },
  {
   "cell_type": "code",
   "execution_count": 1,
   "metadata": {},
   "outputs": [],
   "source": [
    "# Input lists\n",
    "C=[2, 5, 9, 12, 13, 15, 16, 17, 18, 19]\n",
    "F=[2, 4, 5, 6, 7, 9, 13, 16, 20]\n",
    "H=[1, 2, 5, 9, 10, 11, 12, 13, 15, 20]\n",
    "\n",
    "# create concatenated list.\n",
    "t = C + F + H"
   ]
  },
  {
   "cell_type": "code",
   "execution_count": 2,
   "metadata": {},
   "outputs": [
    {
     "name": "stdout",
     "output_type": "stream",
     "text": [
      "Students who play all three sports:  [2, 5, 9, 13]\n"
     ]
    }
   ],
   "source": [
    "# to determine which of the students play all three sports,\n",
    "# lets create the full roster of students (using range(1,21))\n",
    "# and loop through each index to count number of times the student\n",
    "# appears in the concatenated list.\n",
    "print(\"Students who play all three sports: \", [p for p in range(1,21) if t.count(p) == 3])"
   ]
  },
  {
   "cell_type": "code",
   "execution_count": 3,
   "metadata": {},
   "outputs": [
    {
     "name": "stdout",
     "output_type": "stream",
     "text": [
      "Students who play both cricket and football but dont play hockey:  [16]\n"
     ]
    }
   ],
   "source": [
    "# to determine which of the students play cricket and football, but not hockey,\n",
    "# lets create the full roster of students (using range(1,21))\n",
    "# and loop through each index and bounce it off each of the C, F and H lists\n",
    "# verifying truth/false for each.\n",
    "print(\"Students who play both cricket and football but dont play hockey: \", [p for p in range(1,21) if (p in C and p in F and not(p in H))])"
   ]
  },
  {
   "cell_type": "code",
   "execution_count": 4,
   "metadata": {},
   "outputs": [
    {
     "name": "stdout",
     "output_type": "stream",
     "text": [
      "Students who play exactly two of the sports:  [12, 15, 16, 20]\n"
     ]
    }
   ],
   "source": [
    "# Determine students who play exactly two of the sports.\n",
    "print(\"Students who play exactly two of the sports: \", [p for p in range(1,21) if t.count(p) == 2])"
   ]
  },
  {
   "cell_type": "code",
   "execution_count": 5,
   "metadata": {},
   "outputs": [
    {
     "name": "stdout",
     "output_type": "stream",
     "text": [
      "Students who don’t play any of the three sports:  [3, 8, 14]\n"
     ]
    }
   ],
   "source": [
    "# Determine students who dont play any of the sports.\n",
    "print(\"Students who don’t play any of the three sports: \", [p for p in range(1,21) if t.count(p) == 0])"
   ]
  },
  {
   "cell_type": "markdown",
   "metadata": {},
   "source": [
    "### Approach 2 (Set Operations):\n",
    "<p>While list search works for smaller index numbers, for larter lists, looping through each list item could be costly. In such instances, perhaps a Set-based approach works best</p>"
   ]
  },
  {
   "cell_type": "code",
   "execution_count": 6,
   "metadata": {},
   "outputs": [],
   "source": [
    "# Input lists\n",
    "# C=[2, 5, 9, 12, 13, 15, 16, 17, 18, 19]\n",
    "# F=[2, 4, 5, 6, 7, 9, 13, 16, 20]\n",
    "# H=[1, 2, 5, 9, 10, 11, 12, 13, 15, 20]\n",
    "\n",
    "# create sets\n",
    "Cs=set(C)\n",
    "Fs=set(F)\n",
    "Hs=set(H)"
   ]
  },
  {
   "cell_type": "code",
   "execution_count": 7,
   "metadata": {},
   "outputs": [
    {
     "name": "stdout",
     "output_type": "stream",
     "text": [
      "Students who play all three sports:  [9, 2, 13, 5]\n",
      "Students who play both cricket and football but dont play hockey:  [16]\n",
      "Students who play exactly two of the sports:  [16, 12, 20, 15]\n",
      "Students who don’t play any of the three sports:  [8, 3, 14]\n"
     ]
    }
   ],
   "source": [
    "print(\"Students who play all three sports: \", list(Cs & Fs & Hs))\n",
    "print(\"Students who play both cricket and football but dont play hockey: \", list((Cs & Fs) - Hs))\n",
    "print(\"Students who play exactly two of the sports: \", list(((Cs & Fs) | (Fs & Hs) | (Cs & Hs)) - (Cs & Hs & Fs)))\n",
    "print(\"Students who don’t play any of the three sports: \", list(set(range(1,21))-(Cs | Fs | Hs)))"
   ]
  },
  {
   "cell_type": "markdown",
   "metadata": {},
   "source": [
    "### Concluding Remarks\n",
    "<p>It is demonstrated that list and set operations can be used to answer the specific questions</p>"
   ]
  }
 ],
 "metadata": {
  "kernelspec": {
   "display_name": "Python 3",
   "language": "python",
   "name": "python3"
  },
  "language_info": {
   "codemirror_mode": {
    "name": "ipython",
    "version": 3
   },
   "file_extension": ".py",
   "mimetype": "text/x-python",
   "name": "python",
   "nbconvert_exporter": "python",
   "pygments_lexer": "ipython3",
   "version": "3.6.3"
  }
 },
 "nbformat": 4,
 "nbformat_minor": 2
}
